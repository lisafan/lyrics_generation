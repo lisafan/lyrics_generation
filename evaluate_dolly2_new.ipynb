{
 "cells": [
  {
   "cell_type": "code",
   "execution_count": 3,
   "metadata": {},
   "outputs": [],
   "source": [
    "def evaluate(model = None, val_dataloader = None):\n",
    "    val_loss = 0\n",
    "    with torch.no_grad():\n",
    "        for i, batch in enumerate(val_dataloader):\n",
    "            inp_seqs, inp_lens, out_seqs, out_lens, inp_artists, data = batch\n",
    "            if params.use_artist:\n",
    "                inp, target = [inp_seqs.to(device), inp_artists.to(device)], out_seqs.to(device)\n",
    "            else:\n",
    "                inp, target = inp_seqs.to(device), out_seqs.to(device)\n",
    "            predictions = model(inp, inp_lens)\n",
    "            loss = model.loss(predictions, target)\n",
    "            #loss = loss_func(predictions.view(-1, predictions.size(2)), target.view(-1).long())\n",
    "            val_loss += loss.item()\n",
    "            #loss = loss_func(predictions, target)\n",
    "            #loss = model.loss(predictions, target)\n",
    "            if i % 100 == 0:\n",
    "                print({},i/len(val_dataloader))\n",
    "        val_loss /= len(val_dataloader)\n",
    "        print('ppl: {:5.2f},'.format(np.exp(val_loss)))"
   ]
  },
  {
   "cell_type": "code",
   "execution_count": 4,
   "metadata": {},
   "outputs": [
    {
     "name": "stdout",
     "output_type": "stream",
     "text": [
      "Using vocab file: lyrics/input_files/top_5.vocab\n",
      "chunking lyrics\n"
     ]
    },
    {
     "ename": "NameError",
     "evalue": "name 'Data' is not defined",
     "output_type": "error",
     "traceback": [
      "\u001b[0;31m---------------------------------------------------------------------------\u001b[0m",
      "\u001b[0;31mNameError\u001b[0m                                 Traceback (most recent call last)",
      "\u001b[0;32m<ipython-input-4-3af3f57f5828>\u001b[0m in \u001b[0;36m<module>\u001b[0;34m()\u001b[0m\n\u001b[1;32m     23\u001b[0m model = LyricsRNN(ValData.vocab_len, ValData.vocab_len, ValData.PAD_ID, batch_size=params.batch_size, n_layers=params.n_layers,\n\u001b[1;32m     24\u001b[0m                   \u001b[0mhidden_size\u001b[0m\u001b[0;34m=\u001b[0m\u001b[0mparams\u001b[0m\u001b[0;34m.\u001b[0m\u001b[0mhidden_size\u001b[0m\u001b[0;34m,\u001b[0m \u001b[0mword_embedding_size\u001b[0m\u001b[0;34m=\u001b[0m\u001b[0mparams\u001b[0m\u001b[0;34m.\u001b[0m\u001b[0mword_embedding_size\u001b[0m\u001b[0;34m,\u001b[0m\u001b[0;34m\u001b[0m\u001b[0;34m\u001b[0m\u001b[0m\n\u001b[0;32m---> 25\u001b[0;31m                   \u001b[0muse_artist\u001b[0m\u001b[0;34m=\u001b[0m\u001b[0mparams\u001b[0m\u001b[0;34m.\u001b[0m\u001b[0muse_artist\u001b[0m\u001b[0;34m,\u001b[0m \u001b[0membed_artist\u001b[0m\u001b[0;34m=\u001b[0m\u001b[0mparams\u001b[0m\u001b[0;34m.\u001b[0m\u001b[0membed_artist\u001b[0m\u001b[0;34m,\u001b[0m \u001b[0mnum_artists\u001b[0m\u001b[0;34m=\u001b[0m\u001b[0mData\u001b[0m\u001b[0;34m.\u001b[0m\u001b[0mnum_artists\u001b[0m\u001b[0;34m,\u001b[0m\u001b[0;34m\u001b[0m\u001b[0;34m\u001b[0m\u001b[0m\n\u001b[0m\u001b[1;32m     26\u001b[0m                   \u001b[0martist_embedding_size\u001b[0m\u001b[0;34m=\u001b[0m\u001b[0mparams\u001b[0m\u001b[0;34m.\u001b[0m\u001b[0martist_embedding_size\u001b[0m\u001b[0;34m\u001b[0m\u001b[0;34m\u001b[0m\u001b[0m\n\u001b[1;32m     27\u001b[0m                   )\n",
      "\u001b[0;31mNameError\u001b[0m: name 'Data' is not defined"
     ]
    }
   ],
   "source": [
    "from model import LyricsRNN\n",
    "from data import LyricsDataset, padding_fn\n",
    "from torch.utils.data import Dataset, DataLoader\n",
    "import torch\n",
    "import numpy as np\n",
    "import re\n",
    "\n",
    "device = torch.device('cpu')\n",
    "checkpoint = torch.load('checkpoints/dolly2/dolly2-e00008.pt', map_location=device)\n",
    "epoch = checkpoint['epoch']\n",
    "all_losses = checkpoint['losses']\n",
    "params = checkpoint['hyperparameters']\n",
    "ValData = LyricsDataset(re.sub('train', 'val', params.input_file), vocab_file=params.vocab_file,\n",
    "                        chunk_size=params.chunk_size, use_artist=params.use_artist)\n",
    "val_dataloader = DataLoader(ValData, batch_size=params.batch_size, num_workers=1, collate_fn=padding_fn, drop_last=True)\n",
    "\n",
    "# Create model and optimizer\n",
    "model = LyricsRNN(ValData.vocab_len, ValData.vocab_len, ValData.PAD_ID, batch_size=params.batch_size, n_layers=params.n_layers,\n",
    "                  hidden_size=params.hidden_size, word_embedding_size=params.word_embedding_size,\n",
    "                  use_artist=params.use_artist, embed_artist=params.embed_artist, num_artists=ValData.num_artists,\n",
    "                  artist_embedding_size=params.artist_embedding_size\n",
    "                  )\n",
    "model = LyricsRNN(ValData.vocab_len, ValData.vocab_len, ValData.PAD_ID, batch_size=params.batch_size, n_layers=params.n_layers,\n",
    "                  hidden_size=params.hidden_size, word_embedding_size=params.word_embedding_size,\n",
    "                  use_artist=params.use_artist, embed_artist=params.embed_artist, num_artists=Data.num_artists,\n",
    "                  artist_embedding_size=params.artist_embedding_size\n",
    "                  )\n",
    "optimizer = torch.optim.Adam(model.parameters(), lr=params.learning_rate)\n",
    "model.load_state_dict(checkpoint['model_state_dict'])\n",
    "model.to(device)\n",
    "optimizer.load_state_dict(checkpoint['optimizer_state_dict'])\n",
    "model.eval()\n",
    "print(len(val_dataloader))\n",
    "evaluate(model, val_dataloader)"
   ]
  }
 ],
 "metadata": {
  "kernelspec": {
   "display_name": "Python 3",
   "language": "python",
   "name": "python3"
  },
  "language_info": {
   "codemirror_mode": {
    "name": "ipython",
    "version": 3
   },
   "file_extension": ".py",
   "mimetype": "text/x-python",
   "name": "python",
   "nbconvert_exporter": "python",
   "pygments_lexer": "ipython3",
   "version": "3.7.1"
  }
 },
 "nbformat": 4,
 "nbformat_minor": 2
}
