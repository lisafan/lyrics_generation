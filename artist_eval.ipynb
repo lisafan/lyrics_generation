{
 "cells": [
  {
   "cell_type": "code",
   "execution_count": 10,
   "metadata": {},
   "outputs": [],
   "source": [
    "from model import LyricsRNN\n",
    "from data import LyricsDataset, padding_fn\n",
    "from torch.utils.data import Dataset, DataLoader\n",
    "import torch\n",
    "import numpy as np\n",
    "import re\n",
    "import matplotlib.pyplot as plt\n",
    "import matplotlib.ticker as ticker\n",
    "from sklearn.manifold import TSNE\n",
    "from sklearn.decomposition import PCA\n",
    "device = torch.device('cuda:0' if torch.cuda.is_available() else 'cpu')"
   ]
  },
  {
   "cell_type": "code",
   "execution_count": 11,
   "metadata": {},
   "outputs": [],
   "source": [
    "def load_artist_vectors(filename):\n",
    "    checkpoint = torch.load(filename, map_location=device)\n",
    "    epoch = checkpoint['epoch']\n",
    "    all_losses = checkpoint['losses']\n",
    "    params = checkpoint['hyperparameters']\n",
    "    Data = LyricsDataset(params.input_file, vocab_file=params.vocab_file, vocab_size=params.vocab_size,\n",
    "                     chunk_size=params.chunk_size, max_len=params.max_seq_len,\n",
    "                     use_artist=params.use_artist)\n",
    "    ValData = LyricsDataset(re.sub('train', 'val', params.input_file), vocab_file=params.vocab_file,\n",
    "                        chunk_size=params.chunk_size, use_artist=params.use_artist)\n",
    "    val_dataloader = DataLoader(ValData, batch_size=params.batch_size, num_workers=1, collate_fn=padding_fn, drop_last=True)\n",
    "    model = LyricsRNN(ValData.vocab_len, ValData.vocab_len, ValData.PAD_ID, batch_size=params.batch_size, n_layers=params.n_layers,\n",
    "                  hidden_size=params.hidden_size, word_embedding_size=params.word_embedding_size,\n",
    "                  use_artist=params.use_artist, embed_artist=params.embed_artist, num_artists=Data.num_artists,\n",
    "                  artist_embedding_size=params.artist_embedding_size\n",
    "                  )\n",
    "    optimizer = torch.optim.Adam(model.parameters(), lr=params.learning_rate)\n",
    "    model.load_state_dict(checkpoint['model_state_dict'])\n",
    "    model.to(device)\n",
    "    optimizer.load_state_dict(checkpoint['optimizer_state_dict'])\n",
    "    for var_name in model.state_dict():\n",
    "        print(var_name)\n",
    "    print(model.artist_encoder.weight)\n",
    "    artist_labels = Data.artists\n",
    "    arr = model.artist_encoder.weight.detach().numpy()\n",
    "    embed_artists = {}\n",
    "    for index, artist in enumerate(Data.artists):\n",
    "        embed_artists[artist] = arr[index,:]\n",
    "    print(embed_artists)\n",
    "    return artist_labels, arr, embed_artists\n",
    "    "
   ]
  },
  {
   "cell_type": "code",
   "execution_count": 12,
   "metadata": {},
   "outputs": [],
   "source": [
    "def plot_tsne(artist_labels, arr):\n",
    "    tsne = TSNE(n_components=2, random_state=0)\n",
    "    np.set_printoptions(suppress=True)\n",
    "    Y = tsne.fit_transform(arr)\n",
    "    x_coords = Y[:, 0]\n",
    "    y_coords = Y[:, 1]\n",
    "    # display scatter plot\n",
    "    plt.scatter(x_coords, y_coords)\n",
    "    for label, x, y in zip(artist_labels, x_coords, y_coords):\n",
    "        plt.annotate(label, xy=(x, y), xytext=(0, 0), textcoords='offset points')\n",
    "    #plt.xlim(x_coords.min()+0.00005, x_coords.max()+0.00005)\n",
    "    #plt.ylim(y_coords.min()+0.00005, y_coords.max()+0.00005)\n",
    "    plt.xlim(x_coords.min()-10, x_coords.max()+10)\n",
    "    plt.ylim(y_coords.min()-10, y_coords.max()+10)\n",
    "    plt.figure()\n",
    "    plt.show()"
   ]
  },
  {
   "cell_type": "code",
   "execution_count": 13,
   "metadata": {},
   "outputs": [],
   "source": [
    "def plot_pca(artist_labels, arr):\n",
    "    pca = PCA(n_components=2)\n",
    "    Y = pca.fit_transform(arr)\n",
    "    x_coords = Y[:, 0]\n",
    "    y_coords = Y[:, 1]\n",
    "    # display scatter plot\n",
    "    plt.scatter(x_coords, y_coords)\n",
    "    for label, x, y in zip(artist_labels, x_coords, y_coords):\n",
    "        plt.annotate(label, xy=(x, y), xytext=(0, 0), textcoords='offset points')\n",
    "    plt.xlim(x_coords.min()-1, x_coords.max()+1)\n",
    "    plt.ylim(y_coords.min()-1, y_coords.max()+1)\n",
    "    plt.figure()\n",
    "    "
   ]
  },
  {
   "cell_type": "code",
   "execution_count": 14,
   "metadata": {},
   "outputs": [],
   "source": [
    "pairs = [['dolly-parton','b-b-king'], ['dolly-parton', 'chris-brown' ],['dolly-parton', 'elton-john' ],['dolly-parton', 'eminem' ]]"
   ]
  },
  {
   "cell_type": "code",
   "execution_count": 15,
   "metadata": {},
   "outputs": [],
   "source": [
    "from scipy import linalg\n",
    "def cos(vec1,vec2):\n",
    "    return vec1.dot(vec2)/(linalg.norm(vec1)*linalg.norm(vec2))\n",
    "def similarity(pairs, embed_artists):\n",
    "    sim = {}\n",
    "    for a, b in pairs:\n",
    "        res = cos(embed_artists[a], embed_artists[b])\n",
    "        sim[(a,b)] = res\n",
    "        print(res,a,'and',b)\n",
    "    print(sim)\n"
   ]
  },
  {
   "cell_type": "code",
   "execution_count": 16,
   "metadata": {},
   "outputs": [
    {
     "name": "stdout",
     "output_type": "stream",
     "text": [
      "Using vocab file: lyrics/top_5.vocab\n",
      "chunking lyrics\n",
      "Using vocab file: lyrics/top_5.vocab\n",
      "chunking lyrics\n",
      "word_encoder.weight\n",
      "artist_encoder.weight\n",
      "lstm.weight_ih_l0\n",
      "lstm.weight_hh_l0\n",
      "lstm.bias_ih_l0\n",
      "lstm.bias_hh_l0\n",
      "linear.weight\n",
      "linear.bias\n",
      "Parameter containing:\n",
      "tensor([[-1.8606e-01,  1.6052e-01,  3.4952e-01,  5.2555e-01, -2.3514e-02,\n",
      "         -1.2669e-01, -2.8850e-01,  1.2240e+00, -8.9128e-01,  8.3911e-01,\n",
      "         -1.1350e-01, -2.4853e-01,  8.5128e-03, -4.8675e-02,  6.3544e-02,\n",
      "         -1.8741e-02,  1.4605e+00,  1.9761e-02,  2.7434e-01, -4.7750e-01,\n",
      "         -6.5810e-01, -3.6663e-01, -3.1871e-01, -6.5205e-01, -2.1312e-01,\n",
      "         -6.8385e-02, -1.0056e-01, -7.8525e-01, -6.4941e-01,  1.3290e-01,\n",
      "          1.8655e-01, -1.0602e-02],\n",
      "        [-4.8505e-02, -5.2322e-01,  8.2476e-03,  4.0443e-02, -6.4317e-02,\n",
      "          1.6577e-02, -8.7891e-02,  3.2957e-01, -3.0641e-01, -4.2776e-01,\n",
      "         -7.1477e-01, -2.2436e-01,  3.3901e-02, -5.3741e-01, -8.7559e-04,\n",
      "         -2.8544e-01,  5.2698e-01,  5.4827e-02, -1.7538e-01, -4.7559e-01,\n",
      "         -1.0998e-03,  3.4109e-02, -3.9575e-01, -4.3227e-01,  1.0734e+00,\n",
      "          2.3693e-01, -8.4931e-03, -1.7588e-01,  3.1003e-01, -1.7908e-01,\n",
      "          1.9917e-01,  3.2387e-02],\n",
      "        [-6.0333e-01,  1.0816e-01,  2.4489e-01,  3.0933e-01,  3.2779e-02,\n",
      "          5.4856e-02, -9.7466e-01,  1.1604e-01, -1.4231e+00,  4.2590e-02,\n",
      "         -6.2042e-01, -9.5241e-01, -6.6102e-03, -3.2964e-01, -5.7644e-02,\n",
      "         -1.5641e-01, -6.4484e-01, -2.3025e-02, -1.4301e-01, -5.0112e-01,\n",
      "         -2.7974e-01,  8.8086e-03, -9.8013e-02, -3.7168e-01, -5.0538e-01,\n",
      "          1.8546e-01, -4.8065e-02, -1.7663e+00, -1.3634e-01, -1.7107e-01,\n",
      "          2.2552e-01, -4.7958e-02],\n",
      "        [-1.1313e-01,  5.6624e-01, -4.9300e-01,  3.4660e+00,  1.0337e-01,\n",
      "         -5.0412e-01, -5.4380e-01,  7.8094e-02,  1.3675e+00,  6.8307e-01,\n",
      "         -1.7434e+00, -1.2962e+00,  1.2285e-01, -1.1047e+00,  3.5251e-01,\n",
      "         -6.2803e-01, -5.8741e-02,  1.0313e-01,  3.6626e-01, -9.3826e-01,\n",
      "         -1.2798e+00, -8.4819e-02,  8.4445e-01,  5.2368e-01,  9.6630e-01,\n",
      "         -2.8556e-01,  1.2682e+00, -6.3190e-01, -2.4534e-02, -2.6399e-01,\n",
      "          3.1450e-01, -8.9032e-02],\n",
      "        [ 2.6259e-01, -9.4668e-02,  2.0038e-01, -1.8795e-01,  6.9697e-03,\n",
      "         -1.9383e-01, -1.9896e-01,  9.3350e-01,  7.2014e-01, -5.3295e-02,\n",
      "         -2.2464e-01, -1.2092e+00, -3.0640e-02, -4.5430e-01, -2.8391e-02,\n",
      "          1.6844e-02, -6.1773e-02,  3.3374e-02, -1.4290e-01, -1.8308e-01,\n",
      "         -1.4704e-01, -2.6413e-02,  5.9688e-01, -8.3257e-01,  4.2729e-02,\n",
      "          1.7950e-01, -1.9679e-03, -3.6612e-01, -5.0589e-01, -4.3597e-01,\n",
      "         -6.2361e-02,  2.5574e-02]], requires_grad=True)\n",
      "{'b-b-king': array([-0.18606246,  0.16052257,  0.3495163 ,  0.52554595, -0.02351427,\n",
      "       -0.12668902, -0.28850213,  1.2239509 , -0.89127934,  0.83910835,\n",
      "       -0.11350156, -0.24853128,  0.00851276, -0.04867464,  0.06354424,\n",
      "       -0.01874112,  1.4604656 ,  0.01976051,  0.27434468, -0.47749546,\n",
      "       -0.65810305, -0.3666322 , -0.31870976, -0.652048  , -0.2131242 ,\n",
      "       -0.06838524, -0.10056419, -0.7852488 , -0.6494139 ,  0.13289869,\n",
      "        0.18655363, -0.01060183], dtype=float32), 'chris-brown': array([-0.04850486, -0.5232193 ,  0.00824759,  0.04044261, -0.06431732,\n",
      "        0.01657701, -0.08789055,  0.32956558, -0.30640528, -0.42775765,\n",
      "       -0.7147681 , -0.22435857,  0.03390061, -0.5374101 , -0.00087559,\n",
      "       -0.2854432 ,  0.52698463,  0.05482684, -0.175384  , -0.47558838,\n",
      "       -0.00109979,  0.03410877, -0.3957497 , -0.4322724 ,  1.073412  ,\n",
      "        0.23693083, -0.00849309, -0.17588398,  0.3100274 , -0.17908412,\n",
      "        0.1991656 ,  0.03238745], dtype=float32), 'dolly-parton': array([-0.6033307 ,  0.10816171,  0.2448899 ,  0.30933273,  0.03277932,\n",
      "        0.05485565, -0.9746609 ,  0.11603771, -1.4230628 ,  0.04258986,\n",
      "       -0.6204182 , -0.95241034, -0.00661023, -0.32964194, -0.05764436,\n",
      "       -0.15641098, -0.6448417 , -0.02302531, -0.14300714, -0.50111574,\n",
      "       -0.27973792,  0.00880857, -0.09801269, -0.37168178, -0.50537723,\n",
      "        0.18546219, -0.0480645 , -1.7663366 , -0.13634454, -0.17106512,\n",
      "        0.22552484, -0.04795838], dtype=float32), 'elton-john': array([-0.1131304 ,  0.5662402 , -0.4930047 ,  3.4659994 ,  0.10337424,\n",
      "       -0.50412124, -0.5437975 ,  0.07809363,  1.3675331 ,  0.6830653 ,\n",
      "       -1.7434491 , -1.2961818 ,  0.12284602, -1.1047066 ,  0.35250667,\n",
      "       -0.62803316, -0.05874058,  0.10313451,  0.36625886, -0.9382566 ,\n",
      "       -1.2798364 , -0.08481916,  0.8444492 ,  0.5236804 ,  0.96630365,\n",
      "       -0.28556135,  1.2682071 , -0.63189894, -0.02453431, -0.26399297,\n",
      "        0.31449988, -0.08903249], dtype=float32), 'eminem': array([ 0.26259091, -0.09466752,  0.20037645, -0.18795073,  0.00696968,\n",
      "       -0.19382568, -0.19895563,  0.93350214,  0.720139  , -0.05329527,\n",
      "       -0.22464024, -1.2092136 , -0.0306401 , -0.45430183, -0.02839111,\n",
      "        0.01684425, -0.0617732 ,  0.03337447, -0.1428988 , -0.18308072,\n",
      "       -0.14704332, -0.02641252,  0.59688497, -0.8325677 ,  0.04272936,\n",
      "        0.17949873, -0.00196788, -0.36611506, -0.5058906 , -0.43596625,\n",
      "       -0.06236123,  0.02557378], dtype=float32)}\n"
     ]
    }
   ],
   "source": [
    "artist_labels, arr, embed_artists = load_artist_vectors(filename='checkpoints/top5_embed/top5_embed-e00001.pt')"
   ]
  },
  {
   "cell_type": "code",
   "execution_count": 17,
   "metadata": {},
   "outputs": [
    {
     "data": {
      "image/png": "[encoded data removed]",
      "text/plain": [
       "<Figure size 432x288 with 1 Axes>"
      ]
     },
     "metadata": {
      "needs_background": "light"
     },
     "output_type": "display_data"
    },
    {
     "data": {
      "text/plain": [
       "<Figure size 432x288 with 0 Axes>"
      ]
     },
     "metadata": {},
     "output_type": "display_data"
    }
   ],
   "source": [
    "plot_tsne(artist_labels, arr)"
   ]
  },
  {
   "cell_type": "code",
   "execution_count": 18,
   "metadata": {},
   "outputs": [
    {
     "name": "stdout",
     "output_type": "stream",
     "text": [
      "0.42192354848846775 dolly-parton and b-b-king\n",
      "0.22705191673792122 dolly-parton and chris-brown\n",
      "0.21932815734156283 dolly-parton and elton-john\n",
      "0.25414486453374174 dolly-parton and eminem\n",
      "{('dolly-parton', 'b-b-king'): 0.42192354848846775, ('dolly-parton', 'chris-brown'): 0.22705191673792122, ('dolly-parton', 'elton-john'): 0.21932815734156283, ('dolly-parton', 'eminem'): 0.25414486453374174}\n"
     ]
    }
   ],
   "source": [
    "similarity(pairs, embed_artists)"
   ]
  }
 ],
 "metadata": {
  "kernelspec": {
   "display_name": "Python 3",
   "language": "python",
   "name": "python3"
  },
  "language_info": {
   "codemirror_mode": {
    "name": "ipython",
    "version": 3
   },
   "file_extension": ".py",
   "mimetype": "text/x-python",
   "name": "python",
   "nbconvert_exporter": "python",
   "pygments_lexer": "ipython3",
   "version": "3.7.1"
  }
 },
 "nbformat": 4,
 "nbformat_minor": 2
}
