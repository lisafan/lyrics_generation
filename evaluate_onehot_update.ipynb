{
 "cells": [
  {
   "cell_type": "code",
   "execution_count": 1,
   "metadata": {},
   "outputs": [],
   "source": [
    "def evaluate(model = None, val_dataloader = None):\n",
    "    val_loss = 0\n",
    "    with torch.no_grad():\n",
    "        for i, batch in enumerate(val_dataloader):\n",
    "            inp_seqs, inp_lens, out_seqs, out_lens, inp_artists, data = batch\n",
    "            if params.use_artist:\n",
    "                inp, target = [inp_seqs.to(device), inp_artists.to(device)], out_seqs.to(device)\n",
    "            else:\n",
    "                inp, target = inp_seqs.to(device), out_seqs.to(device)\n",
    "            predictions = model(inp, inp_lens)\n",
    "            loss = model.loss(predictions, target)\n",
    "            #loss = loss_func(predictions.view(-1, predictions.size(2)), target.view(-1).long())\n",
    "            val_loss += loss.item()\n",
    "            #loss = loss_func(predictions, target)\n",
    "            #loss = model.loss(predictions, target)\n",
    "            if i % 100 == 0:\n",
    "                print({},i/len(val_dataloader))\n",
    "        val_loss /= len(val_dataloader)\n",
    "        print('ppl: {:5.2f},'.format(np.exp(val_loss)))"
   ]
  },
  {
   "cell_type": "code",
   "execution_count": 2,
   "metadata": {},
   "outputs": [],
   "source": [
    "from model import LyricsRNN\n",
    "from data import LyricsDataset, padding_fn\n",
    "from torch.utils.data import Dataset, DataLoader\n",
    "import torch\n",
    "import numpy as np\n",
    "import re\n",
    "device = torch.device('cpu')"
   ]
  },
  {
   "cell_type": "code",
   "execution_count": 3,
   "metadata": {},
   "outputs": [
    {
     "name": "stdout",
     "output_type": "stream",
     "text": [
      "Using vocab file: lyrics/top_5.vocab\n",
      "chunking lyrics\n",
      "Using vocab file: lyrics/top_5.vocab\n",
      "chunking lyrics\n",
      "484\n",
      "{} 0.0\n",
      "{} 0.2066115702479339\n",
      "{} 0.4132231404958678\n",
      "{} 0.6198347107438017\n",
      "{} 0.8264462809917356\n",
      "ppl: 269.58,\n"
     ]
    }
   ],
   "source": [
    "checkpoint = torch.load('checkpoints/top5_onehot/top5_onehot-e00001.pt', map_location=device)\n",
    "epoch = checkpoint['epoch']\n",
    "all_losses = checkpoint['losses']\n",
    "params = checkpoint['hyperparameters']\n",
    "Data = LyricsDataset(params.input_file, vocab_file=params.vocab_file, vocab_size=params.vocab_size,\n",
    "                     chunk_size=params.chunk_size, max_len=params.max_seq_len,\n",
    "                     use_artist=params.use_artist)\n",
    "ValData = LyricsDataset(re.sub('train', 'val', params.input_file), vocab_file=params.vocab_file,\n",
    "                        chunk_size=params.chunk_size, use_artist=params.use_artist)\n",
    "val_dataloader = DataLoader(ValData, batch_size=params.batch_size, num_workers=1, collate_fn=padding_fn, drop_last=True)\n",
    "\n",
    "# Create model and optimizer\n",
    "model = LyricsRNN(ValData.vocab_len, ValData.vocab_len, ValData.PAD_ID, batch_size=params.batch_size, n_layers=params.n_layers,\n",
    "                  hidden_size=params.hidden_size, word_embedding_size=params.word_embedding_size,\n",
    "                  use_artist=params.use_artist, embed_artist=params.embed_artist, num_artists=Data.num_artists,\n",
    "                  artist_embedding_size=params.artist_embedding_size\n",
    "                  )\n",
    "optimizer = torch.optim.Adam(model.parameters(), lr=params.learning_rate)\n",
    "model.load_state_dict(checkpoint['model_state_dict'])\n",
    "model.to(device)\n",
    "optimizer.load_state_dict(checkpoint['optimizer_state_dict'])\n",
    "model.eval()\n",
    "print(len(val_dataloader))\n",
    "evaluate(model, val_dataloader)"
   ]
  },
  {
   "cell_type": "code",
   "execution_count": 4,
   "metadata": {},
   "outputs": [
    {
     "name": "stdout",
     "output_type": "stream",
     "text": [
      "Using vocab file: lyrics/top_5.vocab\n",
      "chunking lyrics\n",
      "484\n",
      "{} 0.0\n",
      "{} 0.2066115702479339\n",
      "{} 0.4132231404958678\n",
      "{} 0.6198347107438017\n",
      "{} 0.8264462809917356\n",
      "ppl: 504.09,\n"
     ]
    }
   ],
   "source": [
    "checkpoint = torch.load('checkpoints/top5_onehot/top5_onehot-e00002.pt', map_location=device)\n",
    "epoch = checkpoint['epoch']\n",
    "all_losses = checkpoint['losses']\n",
    "params = checkpoint['hyperparameters']\n",
    "ValData = LyricsDataset(re.sub('train', 'val', params.input_file), vocab_file=params.vocab_file,\n",
    "                        chunk_size=params.chunk_size, use_artist=params.use_artist)\n",
    "val_dataloader = DataLoader(ValData, batch_size=params.batch_size, num_workers=1, collate_fn=padding_fn, drop_last=True)\n",
    "\n",
    "# Create model and optimizer\n",
    "model = LyricsRNN(ValData.vocab_len, ValData.vocab_len, ValData.PAD_ID, batch_size=params.batch_size, n_layers=params.n_layers,\n",
    "                  hidden_size=params.hidden_size, word_embedding_size=params.word_embedding_size,\n",
    "                  use_artist=params.use_artist, embed_artist=params.embed_artist, num_artists=Data.num_artists,\n",
    "                  artist_embedding_size=params.artist_embedding_size\n",
    "                  )\n",
    "optimizer = torch.optim.Adam(model.parameters(), lr=params.learning_rate)\n",
    "model.load_state_dict(checkpoint['model_state_dict'])\n",
    "model.to(device)\n",
    "optimizer.load_state_dict(checkpoint['optimizer_state_dict'])\n",
    "model.eval()\n",
    "print(len(val_dataloader))\n",
    "evaluate(model, val_dataloader)"
   ]
  },
  {
   "cell_type": "code",
   "execution_count": 5,
   "metadata": {},
   "outputs": [
    {
     "name": "stdout",
     "output_type": "stream",
     "text": [
      "Using vocab file: lyrics/top_5.vocab\n",
      "chunking lyrics\n",
      "484\n",
      "{} 0.0\n",
      "{} 0.2066115702479339\n",
      "{} 0.4132231404958678\n",
      "{} 0.6198347107438017\n",
      "{} 0.8264462809917356\n",
      "ppl: 780.95,\n"
     ]
    }
   ],
   "source": [
    "checkpoint = torch.load('checkpoints/top5_onehot/top5_onehot-e00003.pt', map_location=device)\n",
    "epoch = checkpoint['epoch']\n",
    "all_losses = checkpoint['losses']\n",
    "params = checkpoint['hyperparameters']\n",
    "ValData = LyricsDataset(re.sub('train', 'val', params.input_file), vocab_file=params.vocab_file,\n",
    "                        chunk_size=params.chunk_size, use_artist=params.use_artist)\n",
    "val_dataloader = DataLoader(ValData, batch_size=params.batch_size, num_workers=1, collate_fn=padding_fn, drop_last=True)\n",
    "\n",
    "# Create model and optimizer\n",
    "model = LyricsRNN(ValData.vocab_len, ValData.vocab_len, ValData.PAD_ID, batch_size=params.batch_size, n_layers=params.n_layers,\n",
    "                  hidden_size=params.hidden_size, word_embedding_size=params.word_embedding_size,\n",
    "                  use_artist=params.use_artist, embed_artist=params.embed_artist, num_artists=Data.num_artists,\n",
    "                  artist_embedding_size=params.artist_embedding_size\n",
    "                  )\n",
    "optimizer = torch.optim.Adam(model.parameters(), lr=params.learning_rate)\n",
    "model.load_state_dict(checkpoint['model_state_dict'])\n",
    "model.to(device)\n",
    "optimizer.load_state_dict(checkpoint['optimizer_state_dict'])\n",
    "model.eval()\n",
    "print(len(val_dataloader))\n",
    "evaluate(model, val_dataloader)"
   ]
  },
  {
   "cell_type": "code",
   "execution_count": 6,
   "metadata": {},
   "outputs": [
    {
     "name": "stdout",
     "output_type": "stream",
     "text": [
      "Using vocab file: lyrics/top_5.vocab\n",
      "chunking lyrics\n",
      "484\n",
      "{} 0.0\n",
      "{} 0.2066115702479339\n",
      "{} 0.4132231404958678\n",
      "{} 0.6198347107438017\n",
      "{} 0.8264462809917356\n",
      "ppl: 1056.52,\n"
     ]
    }
   ],
   "source": [
    "checkpoint = torch.load('checkpoints/top5_onehot/top5_onehot-e00004.pt', map_location=device)\n",
    "epoch = checkpoint['epoch']\n",
    "all_losses = checkpoint['losses']\n",
    "params = checkpoint['hyperparameters']\n",
    "ValData = LyricsDataset(re.sub('train', 'val', params.input_file), vocab_file=params.vocab_file,\n",
    "                        chunk_size=params.chunk_size, use_artist=params.use_artist)\n",
    "val_dataloader = DataLoader(ValData, batch_size=params.batch_size, num_workers=1, collate_fn=padding_fn, drop_last=True)\n",
    "\n",
    "# Create model and optimizer\n",
    "model = LyricsRNN(ValData.vocab_len, ValData.vocab_len, ValData.PAD_ID, batch_size=params.batch_size, n_layers=params.n_layers,\n",
    "                  hidden_size=params.hidden_size, word_embedding_size=params.word_embedding_size,\n",
    "                  use_artist=params.use_artist, embed_artist=params.embed_artist, num_artists=Data.num_artists,\n",
    "                  artist_embedding_size=params.artist_embedding_size\n",
    "                  )\n",
    "optimizer = torch.optim.Adam(model.parameters(), lr=params.learning_rate)\n",
    "model.load_state_dict(checkpoint['model_state_dict'])\n",
    "model.to(device)\n",
    "optimizer.load_state_dict(checkpoint['optimizer_state_dict'])\n",
    "model.eval()\n",
    "print(len(val_dataloader))\n",
    "evaluate(model, val_dataloader)"
   ]
  },
  {
   "cell_type": "code",
   "execution_count": 7,
   "metadata": {},
   "outputs": [
    {
     "name": "stdout",
     "output_type": "stream",
     "text": [
      "Using vocab file: lyrics/top_5.vocab\n",
      "chunking lyrics\n",
      "484\n",
      "{} 0.0\n",
      "{} 0.2066115702479339\n",
      "{} 0.4132231404958678\n",
      "{} 0.6198347107438017\n",
      "{} 0.8264462809917356\n",
      "ppl: 1287.17,\n"
     ]
    }
   ],
   "source": [
    "checkpoint = torch.load('checkpoints/top5_onehot/top5_onehot-e00005.pt', map_location=device)\n",
    "epoch = checkpoint['epoch']\n",
    "all_losses = checkpoint['losses']\n",
    "params = checkpoint['hyperparameters']\n",
    "ValData = LyricsDataset(re.sub('train', 'val', params.input_file), vocab_file=params.vocab_file,\n",
    "                        chunk_size=params.chunk_size, use_artist=params.use_artist)\n",
    "val_dataloader = DataLoader(ValData, batch_size=params.batch_size, num_workers=1, collate_fn=padding_fn, drop_last=True)\n",
    "\n",
    "# Create model and optimizer\n",
    "model = LyricsRNN(ValData.vocab_len, ValData.vocab_len, ValData.PAD_ID, batch_size=params.batch_size, n_layers=params.n_layers,\n",
    "                  hidden_size=params.hidden_size, word_embedding_size=params.word_embedding_size,\n",
    "                  use_artist=params.use_artist, embed_artist=params.embed_artist, num_artists=Data.num_artists,\n",
    "                  artist_embedding_size=params.artist_embedding_size\n",
    "                  )\n",
    "optimizer = torch.optim.Adam(model.parameters(), lr=params.learning_rate)\n",
    "model.load_state_dict(checkpoint['model_state_dict'])\n",
    "model.to(device)\n",
    "optimizer.load_state_dict(checkpoint['optimizer_state_dict'])\n",
    "model.eval()\n",
    "print(len(val_dataloader))\n",
    "evaluate(model, val_dataloader)"
   ]
  },
  {
   "cell_type": "code",
   "execution_count": 8,
   "metadata": {},
   "outputs": [
    {
     "name": "stdout",
     "output_type": "stream",
     "text": [
      "Using vocab file: lyrics/top_5.vocab\n",
      "chunking lyrics\n",
      "484\n",
      "{} 0.0\n",
      "{} 0.2066115702479339\n",
      "{} 0.4132231404958678\n",
      "{} 0.6198347107438017\n",
      "{} 0.8264462809917356\n",
      "ppl: 1530.26,\n"
     ]
    }
   ],
   "source": [
    "checkpoint = torch.load('checkpoints/top5_onehot/top5_onehot-e00006.pt', map_location=device)\n",
    "epoch = checkpoint['epoch']\n",
    "all_losses = checkpoint['losses']\n",
    "params = checkpoint['hyperparameters']\n",
    "ValData = LyricsDataset(re.sub('train', 'val', params.input_file), vocab_file=params.vocab_file,\n",
    "                        chunk_size=params.chunk_size, use_artist=params.use_artist)\n",
    "val_dataloader = DataLoader(ValData, batch_size=params.batch_size, num_workers=1, collate_fn=padding_fn, drop_last=True)\n",
    "\n",
    "# Create model and optimizer\n",
    "model = LyricsRNN(ValData.vocab_len, ValData.vocab_len, ValData.PAD_ID, batch_size=params.batch_size, n_layers=params.n_layers,\n",
    "                  hidden_size=params.hidden_size, word_embedding_size=params.word_embedding_size,\n",
    "                  use_artist=params.use_artist, embed_artist=params.embed_artist, num_artists=Data.num_artists,\n",
    "                  artist_embedding_size=params.artist_embedding_size\n",
    "                  )\n",
    "optimizer = torch.optim.Adam(model.parameters(), lr=params.learning_rate)\n",
    "model.load_state_dict(checkpoint['model_state_dict'])\n",
    "model.to(device)\n",
    "optimizer.load_state_dict(checkpoint['optimizer_state_dict'])\n",
    "model.eval()\n",
    "print(len(val_dataloader))\n",
    "evaluate(model, val_dataloader)"
   ]
  },
  {
   "cell_type": "code",
   "execution_count": 9,
   "metadata": {},
   "outputs": [
    {
     "name": "stdout",
     "output_type": "stream",
     "text": [
      "Using vocab file: lyrics/top_5.vocab\n",
      "chunking lyrics\n",
      "484\n",
      "{} 0.0\n",
      "{} 0.2066115702479339\n",
      "{} 0.4132231404958678\n",
      "{} 0.6198347107438017\n",
      "{} 0.8264462809917356\n",
      "ppl: 1759.38,\n"
     ]
    }
   ],
   "source": [
    "checkpoint = torch.load('checkpoints/top5_onehot/top5_onehot-e00007.pt', map_location=device)\n",
    "epoch = checkpoint['epoch']\n",
    "all_losses = checkpoint['losses']\n",
    "params = checkpoint['hyperparameters']\n",
    "ValData = LyricsDataset(re.sub('train', 'val', params.input_file), vocab_file=params.vocab_file,\n",
    "                        chunk_size=params.chunk_size, use_artist=params.use_artist)\n",
    "val_dataloader = DataLoader(ValData, batch_size=params.batch_size, num_workers=1, collate_fn=padding_fn, drop_last=True)\n",
    "\n",
    "# Create model and optimizer\n",
    "model = LyricsRNN(ValData.vocab_len, ValData.vocab_len, ValData.PAD_ID, batch_size=params.batch_size, n_layers=params.n_layers,\n",
    "                  hidden_size=params.hidden_size, word_embedding_size=params.word_embedding_size,\n",
    "                  use_artist=params.use_artist, embed_artist=params.embed_artist, num_artists=Data.num_artists,\n",
    "                  artist_embedding_size=params.artist_embedding_size\n",
    "                  )\n",
    "optimizer = torch.optim.Adam(model.parameters(), lr=params.learning_rate)\n",
    "model.load_state_dict(checkpoint['model_state_dict'])\n",
    "model.to(device)\n",
    "optimizer.load_state_dict(checkpoint['optimizer_state_dict'])\n",
    "model.eval()\n",
    "print(len(val_dataloader))\n",
    "evaluate(model, val_dataloader)"
   ]
  },
  {
   "cell_type": "code",
   "execution_count": null,
   "metadata": {},
   "outputs": [
    {
     "name": "stdout",
     "output_type": "stream",
     "text": [
      "Using vocab file: lyrics/top_5.vocab\n",
      "chunking lyrics\n",
      "484\n",
      "{} 0.0\n",
      "{} 0.2066115702479339\n",
      "{} 0.4132231404958678\n",
      "{} 0.6198347107438017\n",
      "{} 0.8264462809917356\n"
     ]
    }
   ],
   "source": [
    "checkpoint = torch.load('checkpoints/top5_onehot/top5_onehot-e00008.pt', map_location=device)\n",
    "epoch = checkpoint['epoch']\n",
    "all_losses = checkpoint['losses']\n",
    "params = checkpoint['hyperparameters']\n",
    "ValData = LyricsDataset(re.sub('train', 'val', params.input_file), vocab_file=params.vocab_file,\n",
    "                        chunk_size=params.chunk_size, use_artist=params.use_artist)\n",
    "val_dataloader = DataLoader(ValData, batch_size=params.batch_size, num_workers=1, collate_fn=padding_fn, drop_last=True)\n",
    "\n",
    "# Create model and optimizer\n",
    "model = LyricsRNN(ValData.vocab_len, ValData.vocab_len, ValData.PAD_ID, batch_size=params.batch_size, n_layers=params.n_layers,\n",
    "                  hidden_size=params.hidden_size, word_embedding_size=params.word_embedding_size,\n",
    "                  use_artist=params.use_artist, embed_artist=params.embed_artist, num_artists=Data.num_artists,\n",
    "                  artist_embedding_size=params.artist_embedding_size\n",
    "                  )\n",
    "optimizer = torch.optim.Adam(model.parameters(), lr=params.learning_rate)\n",
    "model.load_state_dict(checkpoint['model_state_dict'])\n",
    "model.to(device)\n",
    "optimizer.load_state_dict(checkpoint['optimizer_state_dict'])\n",
    "model.eval()\n",
    "print(len(val_dataloader))\n",
    "evaluate(model, val_dataloader)"
   ]
  },
  {
   "cell_type": "code",
   "execution_count": null,
   "metadata": {},
   "outputs": [],
   "source": [
    "checkpoint = torch.load('checkpoints/top5_onehot/top5_onehot-e00009.pt', map_location=device)\n",
    "epoch = checkpoint['epoch']\n",
    "all_losses = checkpoint['losses']\n",
    "params = checkpoint['hyperparameters']\n",
    "ValData = LyricsDataset(re.sub('train', 'val', params.input_file), vocab_file=params.vocab_file,\n",
    "                        chunk_size=params.chunk_size, use_artist=params.use_artist)\n",
    "val_dataloader = DataLoader(ValData, batch_size=params.batch_size, num_workers=1, collate_fn=padding_fn, drop_last=True)\n",
    "\n",
    "# Create model and optimizer\n",
    "model = LyricsRNN(ValData.vocab_len, ValData.vocab_len, ValData.PAD_ID, batch_size=params.batch_size, n_layers=params.n_layers,\n",
    "                  hidden_size=params.hidden_size, word_embedding_size=params.word_embedding_size,\n",
    "                  use_artist=params.use_artist, embed_artist=params.embed_artist, num_artists=Data.num_artists,\n",
    "                  artist_embedding_size=params.artist_embedding_size\n",
    "                  )\n",
    "optimizer = torch.optim.Adam(model.parameters(), lr=params.learning_rate)\n",
    "model.load_state_dict(checkpoint['model_state_dict'])\n",
    "model.to(device)\n",
    "optimizer.load_state_dict(checkpoint['optimizer_state_dict'])\n",
    "model.eval()\n",
    "print(len(val_dataloader))\n",
    "evaluate(model, val_dataloader)"
   ]
  },
  {
   "cell_type": "code",
   "execution_count": null,
   "metadata": {},
   "outputs": [],
   "source": [
    "checkpoint = torch.load('checkpoints/top5_onehot/top5_onehot-e00010.pt', map_location=device)\n",
    "epoch = checkpoint['epoch']\n",
    "all_losses = checkpoint['losses']\n",
    "params = checkpoint['hyperparameters']\n",
    "ValData = LyricsDataset(re.sub('train', 'val', params.input_file), vocab_file=params.vocab_file,\n",
    "                        chunk_size=params.chunk_size, use_artist=params.use_artist)\n",
    "val_dataloader = DataLoader(ValData, batch_size=params.batch_size, num_workers=1, collate_fn=padding_fn, drop_last=True)\n",
    "\n",
    "# Create model and optimizer\n",
    "model = LyricsRNN(ValData.vocab_len, ValData.vocab_len, ValData.PAD_ID, batch_size=params.batch_size, n_layers=params.n_layers,\n",
    "                  hidden_size=params.hidden_size, word_embedding_size=params.word_embedding_size,\n",
    "                  use_artist=params.use_artist, embed_artist=params.embed_artist, num_artists=Data.num_artists,\n",
    "                  artist_embedding_size=params.artist_embedding_size\n",
    "                  )\n",
    "optimizer = torch.optim.Adam(model.parameters(), lr=params.learning_rate)\n",
    "model.load_state_dict(checkpoint['model_state_dict'])\n",
    "model.to(device)\n",
    "optimizer.load_state_dict(checkpoint['optimizer_state_dict'])\n",
    "model.eval()\n",
    "print(len(val_dataloader))\n",
    "evaluate(model, val_dataloader)"
   ]
  }
 ],
 "metadata": {
  "kernelspec": {
   "display_name": "Python 3",
   "language": "python",
   "name": "python3"
  },
  "language_info": {
   "codemirror_mode": {
    "name": "ipython",
    "version": 3
   },
   "file_extension": ".py",
   "mimetype": "text/x-python",
   "name": "python",
   "nbconvert_exporter": "python",
   "pygments_lexer": "ipython3",
   "version": "3.7.1"
  }
 },
 "nbformat": 4,
 "nbformat_minor": 2
}
