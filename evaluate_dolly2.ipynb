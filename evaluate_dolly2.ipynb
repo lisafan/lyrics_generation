{
 "cells": [
  {
   "cell_type": "code",
   "execution_count": 1,
   "metadata": {},
   "outputs": [
    {
     "name": "stdout",
     "output_type": "stream",
     "text": [
      "Using vocab file: lyrics/input_files/top_5.vocab\n",
      "chunking lyrics\n",
      "798 batches per epoch\n",
      "Using vocab file: lyrics/input_files/top_5.vocab\n",
      "chunking lyrics\n",
      "798\n",
      "{} 0.0\n",
      "{} 0.12531328320802004\n",
      "{} 0.2506265664160401\n",
      "{} 0.37593984962406013\n",
      "{} 0.5012531328320802\n",
      "{} 0.6265664160401002\n",
      "{} 0.7518796992481203\n",
      "{} 0.8771929824561403\n",
      "ppl: 35.47,\n"
     ]
    }
   ],
   "source": [
    "from model import LyricsRNN\n",
    "from data import LyricsDataset, padding_fn\n",
    "from torch.utils.data import Dataset, DataLoader\n",
    "import torch\n",
    "import numpy as np\n",
    "import re\n",
    "\n",
    "device = torch.device('cpu')\n",
    "checkpoint = torch.load('checkpoints/dolly2/dolly2-e00008.pt', map_location=device)\n",
    "epoch = checkpoint['epoch']\n",
    "all_losses = checkpoint['losses']\n",
    "params = checkpoint['hyperparameters']\n",
    "\n",
    "Data = LyricsDataset(params.input_file, vocab_file=params.vocab_file, vocab_size=params.vocab_size,\n",
    "                     chunk_size=params.chunk_size, max_len=params.max_seq_len,\n",
    "                     use_artist=params.use_artist)\n",
    "print(\"%d batches per epoch\" % (len(Data) / params.batch_size))\n",
    "dataloader = DataLoader(Data, batch_size=params.batch_size, shuffle=True, num_workers=1, collate_fn=padding_fn,\n",
    "                        drop_last=True)\n",
    "ValData = LyricsDataset(re.sub('train', 'val', params.input_file), vocab_file=params.vocab_file,\n",
    "                        chunk_size=params.chunk_size, use_artist=params.use_artist)\n",
    "val_dataloader = DataLoader(ValData, batch_size=params.batch_size, num_workers=1, collate_fn=padding_fn, drop_last=True)\n",
    "\n",
    "# Create model and optimizer\n",
    "model = LyricsRNN(Data.vocab_len, Data.vocab_len, Data.PAD_ID, batch_size=params.batch_size, n_layers=params.n_layers,\n",
    "                  hidden_size=params.hidden_size, word_embedding_size=params.word_embedding_size,\n",
    "                  use_artist=params.use_artist, embed_artist=params.embed_artist, num_artists=Data.num_artists,\n",
    "                  artist_embedding_size=params.artist_embedding_size\n",
    "                  )\n",
    "optimizer = torch.optim.Adam(model.parameters(), lr=params.learning_rate)\n",
    "model.load_state_dict(checkpoint['model_state_dict'])\n",
    "model.to(device)\n",
    "optimizer.load_state_dict(checkpoint['optimizer_state_dict'])\n",
    "model.eval()\n",
    "def generate(prime_str=[Data.START], artist=None, predict_len=100, temperature=0.8):\n",
    "    inp = [Data.word2id(w) for w in prime_str]\n",
    "\n",
    "    if type(artist) == str:\n",
    "        artist = Data.artists.index(artist)\n",
    "\n",
    "    predicted = model.evaluate(inp, artist, predict_len, temperature)\n",
    "\n",
    "    predicted_words = [Data.id2word(w) for w in predicted]\n",
    "    if Data.END in predicted_words:\n",
    "        predicted_words = predicted_words[:predicted_words.index(Data.END) + 1]\n",
    "\n",
    "    return ' '.join(predicted_words)\n",
    "print(len(dataloader))\n",
    "val_loss = 0\n",
    "loss_func = torch.nn.CrossEntropyLoss()\n",
    "with torch.no_grad():\n",
    "    for i, batch in enumerate(dataloader):\n",
    "        inp_seqs, inp_lens, out_seqs, out_lens, inp_artists, data = batch\n",
    "        if params.use_artist:\n",
    "            inp, target = [inp_seqs.to(device), inp_artists.to(device)], out_seqs.to(device)\n",
    "        else:\n",
    "            inp, target = inp_seqs.to(device), out_seqs.to(device)\n",
    "        predictions = model(inp, inp_lens)\n",
    "        loss = loss_func(predictions.view(-1, predictions.size(2)), target.view(-1).long())\n",
    "        val_loss += loss.item()\n",
    "        #loss = loss_func(predictions, target)\n",
    "        #loss = model.loss(predictions, target)\n",
    "        if i % 100 == 0:\n",
    "            print({},i/len(dataloader))\n",
    "    val_loss /= len(dataloader)\n",
    "    print('ppl: {:5.2f},'.format(np.exp(val_loss)))"
   ]
  },
  {
   "cell_type": "code",
   "execution_count": 2,
   "metadata": {},
   "outputs": [
    {
     "ename": "NameError",
     "evalue": "name 'vocab_size' is not defined",
     "output_type": "error",
     "traceback": [
      "\u001b[0;31m---------------------------------------------------------------------------\u001b[0m",
      "\u001b[0;31mNameError\u001b[0m                                 Traceback (most recent call last)",
      "\u001b[0;32m<ipython-input-2-f29c9f187f9e>\u001b[0m in \u001b[0;36m<module>\u001b[0;34m()\u001b[0m\n\u001b[0;32m----> 1\u001b[0;31m \u001b[0mprint\u001b[0m\u001b[0;34m(\u001b[0m\u001b[0mvocab_size\u001b[0m\u001b[0;34m)\u001b[0m\u001b[0;34m\u001b[0m\u001b[0;34m\u001b[0m\u001b[0m\n\u001b[0m",
      "\u001b[0;31mNameError\u001b[0m: name 'vocab_size' is not defined"
     ]
    }
   ],
   "source": [
    "print(param.vocab_size)"
   ]
  }
 ],
 "metadata": {
  "kernelspec": {
   "display_name": "Python 3",
   "language": "python",
   "name": "python3"
  },
  "language_info": {
   "codemirror_mode": {
    "name": "ipython",
    "version": 3
   },
   "file_extension": ".py",
   "mimetype": "text/x-python",
   "name": "python",
   "nbconvert_exporter": "python",
   "pygments_lexer": "ipython3",
   "version": "3.7.1"
  }
 },
 "nbformat": 4,
 "nbformat_minor": 2
}
